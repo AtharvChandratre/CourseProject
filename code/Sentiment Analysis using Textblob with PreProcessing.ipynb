{
 "cells": [
  {
   "cell_type": "code",
   "execution_count": null,
   "id": "d685474c",
   "metadata": {},
   "outputs": [],
   "source": [
    "import numpy as np\n",
    "import pandas as pd\n",
    "import re\n",
    "from nltk.corpus import stopwords"
   ]
  },
  {
   "cell_type": "code",
   "execution_count": null,
   "id": "f7ea74e3",
   "metadata": {},
   "outputs": [],
   "source": [
    "data = pd.read_csv('dataset/dataset.csv', sep='|')\n",
    "data.Reviews=data.Reviews.astype(str)\n",
    "\n",
    "#Transform text to lowercase\n",
    "data['Reviews'] = data['Reviews'].apply(lambda x: x.lower()) \n",
    "#Removing all punctuations and special characters\n",
    "data['Reviews'] = data['Reviews'].apply(lambda x: re.sub('[,.]', '', x))"
   ]
  },
  {
   "cell_type": "code",
   "execution_count": null,
   "id": "dec54530",
   "metadata": {},
   "outputs": [],
   "source": [
    "stopwords_list = stopwords.words('english')\n",
    "data['Reviews'] = data['Reviews'].apply(lambda x: ' '.join([word for word in x.split() if word not in (stopwords_list)]))"
   ]
  },
  {
   "cell_type": "code",
   "execution_count": null,
   "id": "8708bb5a",
   "metadata": {},
   "outputs": [],
   "source": [
    "print(data)"
   ]
  },
  {
   "cell_type": "code",
   "execution_count": null,
   "id": "153fabf8",
   "metadata": {},
   "outputs": [],
   "source": [
    "conda install -c conda-forge textblob"
   ]
  },
  {
   "cell_type": "code",
   "execution_count": null,
   "id": "cd309ad3",
   "metadata": {},
   "outputs": [],
   "source": [
    "from textblob import TextBlob"
   ]
  },
  {
   "cell_type": "code",
   "execution_count": null,
   "id": "98d8c815",
   "metadata": {},
   "outputs": [],
   "source": [
    "score_list=[]\n",
    "\n",
    "for text in data['Reviews']:\n",
    "  \n",
    "  sentence = TextBlob(text)\n",
    "  \n",
    "  score = sentence.sentiment.polarity\n",
    "  score_list.append(score)"
   ]
  },
  {
   "cell_type": "code",
   "execution_count": null,
   "id": "be71bcf6",
   "metadata": {},
   "outputs": [],
   "source": [
    "import statistics\n",
    "median = statistics.median(score_list)\n",
    "print(median)"
   ]
  },
  {
   "cell_type": "code",
   "execution_count": null,
   "id": "47ce57ba",
   "metadata": {},
   "outputs": [],
   "source": [
    "sentiment_label = []\n",
    "for score in score_list:\n",
    "  if score > median:\n",
    "    sentiment_label.append('positive')\n",
    "  elif score < median:\n",
    "    sentiment_label.append('negative')\n",
    "  else:\n",
    "    sentiment_label.append('neutral')\n",
    "print(sentiment_label)"
   ]
  },
  {
   "cell_type": "code",
   "execution_count": null,
   "id": "86351a7f",
   "metadata": {},
   "outputs": [],
   "source": [
    "dataset = data\n",
    "dataset['SCORE']=score_list\n",
    "dataset['SENTIMENT_LABEL']=sentiment_label\n",
    "print(dataset)\n",
    "dataset.to_csv(\"TextBlobResultswithMedian.csv\")\n",
    "!cp TextBlobResultswithMedian.csv \"Results\""
   ]
  },
  {
   "cell_type": "code",
   "execution_count": null,
   "id": "9144321b",
   "metadata": {},
   "outputs": [],
   "source": []
  }
 ],
 "metadata": {
  "kernelspec": {
   "display_name": "Python 3 (ipykernel)",
   "language": "python",
   "name": "python3"
  },
  "language_info": {
   "codemirror_mode": {
    "name": "ipython",
    "version": 3
   },
   "file_extension": ".py",
   "mimetype": "text/x-python",
   "name": "python",
   "nbconvert_exporter": "python",
   "pygments_lexer": "ipython3",
   "version": "3.9.13"
  }
 },
 "nbformat": 4,
 "nbformat_minor": 5
}
