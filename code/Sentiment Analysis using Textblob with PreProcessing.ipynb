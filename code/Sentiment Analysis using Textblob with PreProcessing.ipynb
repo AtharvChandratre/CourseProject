{
 "cells": [
  {
   "cell_type": "code",
   "execution_count": null,
   "id": "ed730193",
   "metadata": {},
   "outputs": [],
   "source": [
    "%pip install numpy pandas nltk\n",
    "import nltk\n",
    "nltk.download('stopwords')"
   ]
  },
  {
   "cell_type": "code",
   "execution_count": null,
   "id": "d685474c",
   "metadata": {},
   "outputs": [],
   "source": [
    "import numpy as np\n",
    "import pandas as pd\n",
    "import re\n",
    "import nltk\n",
    "from nltk.corpus import stopwords"
   ]
  },
  {
   "cell_type": "code",
   "execution_count": null,
   "id": "f7ea74e3",
   "metadata": {},
   "outputs": [],
   "source": [
    "data = pd.read_csv('../dataset/dataset.csv', sep='|')\n",
    "data.Reviews=data.Reviews.astype(str)\n",
    "\n",
    "#Transform text to lowercase\n",
    "data['Reviews'] = data['Reviews'].apply(lambda x: x.lower()) \n",
    "#Removing all punctuations and special characters\n",
    "data['Reviews'] = data['Reviews'].apply(lambda x: re.sub('[,.]', '', x))"
   ]
  },
  {
   "cell_type": "code",
   "execution_count": null,
   "id": "dec54530",
   "metadata": {},
   "outputs": [],
   "source": [
    "stopwords_list = stopwords.words('english')\n",
    "data['Reviews'] = data['Reviews'].apply(lambda x: ' '.join([word for word in x.split() if word not in (stopwords_list)]))"
   ]
  },
  {
   "cell_type": "code",
   "execution_count": null,
   "id": "8708bb5a",
   "metadata": {},
   "outputs": [],
   "source": [
    "print(data)"
   ]
  },
  {
   "cell_type": "code",
   "execution_count": null,
   "id": "cd309ad3",
   "metadata": {},
   "outputs": [],
   "source": [
    "from textblob import TextBlob"
   ]
  },
  {
   "cell_type": "code",
   "execution_count": null,
   "id": "98d8c815",
   "metadata": {},
   "outputs": [],
   "source": [
    "score_list=[]\n",
    "\n",
    "for text in data['Reviews']:\n",
    "  \n",
    "  sentence = TextBlob(text)\n",
    "  \n",
    "  score = sentence.sentiment.polarity\n",
    "  score_list.append(score)"
   ]
  },
  {
   "cell_type": "code",
   "execution_count": null,
   "id": "be71bcf6",
   "metadata": {},
   "outputs": [],
   "source": [
    "import statistics\n",
    "median = statistics.median(score_list)\n",
    "print(median)"
   ]
  },
  {
   "cell_type": "code",
   "execution_count": null,
   "id": "47ce57ba",
   "metadata": {},
   "outputs": [],
   "source": [
    "sentiment_label = []\n",
    "for score in score_list:\n",
    "  if score > median:\n",
    "    sentiment_label.append('positive')\n",
    "  elif score < median:\n",
    "    sentiment_label.append('negative')\n",
    "  else:\n",
    "    sentiment_label.append('neutral')\n",
    "print(sentiment_label)"
   ]
  },
  {
   "cell_type": "code",
   "execution_count": null,
   "id": "86351a7f",
   "metadata": {},
   "outputs": [],
   "source": [
    "dataset = data\n",
    "dataset['SCORE']=score_list\n",
    "dataset['SENTIMENT_LABEL']=sentiment_label\n",
    "print(dataset)\n",
    "dataset.to_csv(\"../dataset/TextBlobResultswithMedian.csv\", sep='|')"
   ]
  },
  {
   "cell_type": "code",
   "execution_count": null,
   "id": "db2ffbfc",
   "metadata": {},
   "outputs": [],
   "source": [
    "human_data = pd.read_csv('../dataset/HumanAnnotatedDataset.csv', sep=',')\n",
    "\n",
    "Fal_pos = 0.0\n",
    "Fal_neg = 0.0\n",
    "Tru_pos = 0.0\n",
    "Tru_neg = 0.0\n",
    "\n",
    "\n",
    "for ind in range(len(sentiment_label)):\n",
    "  \n",
    "    if sentiment_label[ind] == 'positive' and human_data['HUMAN_LABEL'][ind] == 'negative':\n",
    "        Fal_pos += 1\n",
    "    elif sentiment_label[ind] == 'negative' and human_data['HUMAN_LABEL'][ind] == 'positive':\n",
    "        Fal_neg += 1\n",
    "    elif sentiment_label[ind] == 'positive' and human_data['HUMAN_LABEL'][ind] == 'positive':\n",
    "        Tru_pos += 1\n",
    "    elif sentiment_label[ind] == 'negative' and human_data['HUMAN_LABEL'][ind] == 'negative':\n",
    "        Tru_neg += 1\n",
    "\n",
    "Accur = (Tru_pos + Tru_neg)/(Tru_pos + Tru_neg + Fal_pos + Fal_neg)\n",
    "Prec = (Tru_pos)/(Tru_pos + Fal_pos)\n",
    "Recal = (Tru_pos)/(Tru_pos + Fal_neg)\n",
    "FScore = (2*Prec*Recal)/(Prec + Recal)\n",
    "        \n",
    "    \n",
    "print(\"Accuracy: \", Accur)\n",
    "print(\"Precision: \", Prec)\n",
    "print(\"Recall: \", Recal)\n",
    "print(\"F-Score: \", FScore)"
   ]
  }
 ],
 "metadata": {
  "kernelspec": {
   "display_name": "Python 3 (ipykernel)",
   "language": "python",
   "name": "python3"
  },
  "language_info": {
   "codemirror_mode": {
    "name": "ipython",
    "version": 3
   },
   "file_extension": ".py",
   "mimetype": "text/x-python",
   "name": "python",
   "nbconvert_exporter": "python",
   "pygments_lexer": "ipython3",
   "version": "3.9.12"
  },
  "vscode": {
   "interpreter": {
    "hash": "cf848db52ef32cc176ed1af497719705d0e2fe62659246413983ac6a5ce0226f"
   }
  }
 },
 "nbformat": 4,
 "nbformat_minor": 5
}
